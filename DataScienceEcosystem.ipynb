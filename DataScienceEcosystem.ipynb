{
  "metadata": {
    "kernelspec": {
      "name": "python",
      "display_name": "Python (Pyodide)",
      "language": "python"
    },
    "language_info": {
      "codemirror_mode": {
        "name": "python",
        "version": 3
      },
      "file_extension": ".py",
      "mimetype": "text/x-python",
      "name": "python",
      "nbconvert_exporter": "python",
      "pygments_lexer": "ipython3",
      "version": "3.8"
    }
  },
  "nbformat_minor": 5,
  "nbformat": 4,
  "cells": [
    {
      "id": "687f5ca2-36d2-41dc-8bdf-3a368cc9cf7d",
      "cell_type": "markdown",
      "source": "# Data Science Tools and Ecosystem\n",
      "metadata": {}
    },
    {
      "id": "5f65cb8e-76a9-41a6-8f81-62908925bc39",
      "cell_type": "markdown",
      "source": "In this notebook, Data Science Tools and Ecosystem are summarized.",
      "metadata": {}
    },
    {
      "id": "7e984f54-b580-4002-b564-bace92dee0de",
      "cell_type": "markdown",
      "source": "Some of the popular languages that Data Scientists use are:\n1. Python\n2. R\n3. SQL",
      "metadata": {}
    },
    {
      "id": "f4887c3b-64e9-413d-93a5-c9f03691cc23",
      "cell_type": "markdown",
      "source": "# Data Science Libraries\n\nBelow are some of the most commonly used libraries in Data Science:\n\n1. **NumPy** - Essential for numerical computing, working with arrays and matrices.\n2. **Pandas** - Provides high-level data structures and methods for manipulating structured data.\n3. **Matplotlib** - A plotting library for creating static, animated, and interactive visualizations.\n4. **Seaborn** - Built on top of Matplotlib, it simplifies creating beautiful and informative statistical graphics.\n5. **SciPy** - Used for scientific and technical computing, particularly for optimization and integration.\n6. **Scikit-learn** - A library for machine learning that provides simple and efficient tools for data mining and analysis.\n7. **TensorFlow** - A deep learning library for building and training neural networks.\n8. **Keras** - A high-level neural networks API, running on top of TensorFlow.\n9. **PyTorch** - Another deep learning framework that provides flexibility and speed for model development.\n10. **Statsmodels** - A library for statistical modeling, testing, and data exploration.\n11. **NLTK** - The Natural Language Toolkit, useful for working with human language data (text).\n12. **Plotly** - A graphing library for creating interactive plots and dashboards.\n",
      "metadata": {}
    },
    {
      "id": "a14c5aef-117a-4f5c-af2a-403db63fc9a4",
      "cell_type": "markdown",
      "source": "| Data Science Tools |\n|--------------------|\n| Jupyter Notebook   |\n| RStudio            |\n| Apache Zeppelin    |",
      "metadata": {}
    },
    {
      "id": "54524230-e0b1-4819-9d18-6f17f3d4342d",
      "cell_type": "markdown",
      "source": "### Below are a few examples of evaluating arithmetic expressions in Python.",
      "metadata": {}
    },
    {
      "id": "d195a53e-1b7c-496b-a9c6-b58558591839",
      "cell_type": "code",
      "source": "# This is a simple arithmetic expression to multiply and then add integers\nresult = (3 * 4) + 5\nresult",
      "metadata": {
        "trusted": true
      },
      "outputs": [
        {
          "execution_count": 4,
          "output_type": "execute_result",
          "data": {
            "text/plain": "17"
          },
          "metadata": {}
        }
      ],
      "execution_count": 4
    },
    {
      "id": "c2a5f829-270c-4c34-bff0-1337639cf879",
      "cell_type": "code",
      "source": "# This will convert 200 minutes to hours by dividing by 60\nminutes = 200\nhours = minutes / 60\nhours",
      "metadata": {
        "trusted": true
      },
      "outputs": [
        {
          "execution_count": 3,
          "output_type": "execute_result",
          "data": {
            "text/plain": "3.3333333333333335"
          },
          "metadata": {}
        }
      ],
      "execution_count": 3
    },
    {
      "id": "4f17c501-6c13-422e-bdae-d64777fe47dd",
      "cell_type": "markdown",
      "source": "**Objectives:**\n\n- List popular languages for Data Science\n- Understand basic arithmetic expressions in Python\n- Learn how to convert minutes to hours in Python\n- Explore open-source tools for Data Science\n",
      "metadata": {}
    },
    {
      "id": "24d6e38e-9ead-413e-813e-fd318a2d7099",
      "cell_type": "markdown",
      "source": "## Author\nKirti Singh",
      "metadata": {}
    }
  ]
}